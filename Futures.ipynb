{
 "cells": [
  {
   "cell_type": "code",
   "execution_count": null,
   "id": "74fbb349",
   "metadata": {},
   "outputs": [],
   "source": [
    "import numpy as np\n",
    "import pandas as pd\n",
    "from plotly import express as px"
   ]
  },
  {
   "cell_type": "code",
   "execution_count": null,
   "id": "01c17235",
   "metadata": {},
   "outputs": [],
   "source": [
    "import os\n",
    "os.getcwd()"
   ]
  },
  {
   "cell_type": "code",
   "execution_count": null,
   "id": "7a044ae5",
   "metadata": {},
   "outputs": [],
   "source": [
    "df = pd.read_csv('reg_data/train_data.csv', index_col=0, parse_dates=['date'])\n",
    "df.reset_index(drop=True, inplace=True)"
   ]
  },
  {
   "cell_type": "code",
   "execution_count": null,
   "id": "5535062e",
   "metadata": {},
   "outputs": [],
   "source": [
    "df.dtypes"
   ]
  },
  {
   "cell_type": "code",
   "execution_count": null,
   "id": "06c4c76f",
   "metadata": {},
   "outputs": [],
   "source": [
    "df.date[34]"
   ]
  },
  {
   "cell_type": "code",
   "execution_count": null,
   "id": "e12ac5e8",
   "metadata": {},
   "outputs": [],
   "source": []
  },
  {
   "cell_type": "code",
   "execution_count": null,
   "id": "d0a9fb18",
   "metadata": {},
   "outputs": [],
   "source": [
    "# .sort_values(['tic','date'])[['tic','date',]\n",
    "wat = df.groupby(\"tic\", as_index=True)['close'].ewm(com=60, adjust=True).std()\n",
    "wat = wat.droplevel(0)"
   ]
  },
  {
   "cell_type": "code",
   "execution_count": null,
   "id": "2a1e948b",
   "metadata": {},
   "outputs": [],
   "source": [
    "wat.index"
   ]
  },
  {
   "cell_type": "code",
   "execution_count": null,
   "id": "0a053922",
   "metadata": {},
   "outputs": [],
   "source": [
    "wat"
   ]
  },
  {
   "cell_type": "code",
   "execution_count": null,
   "id": "bc076541",
   "metadata": {},
   "outputs": [],
   "source": [
    "df[\"volatility\"] = wat"
   ]
  },
  {
   "cell_type": "code",
   "execution_count": null,
   "id": "6ec4acef",
   "metadata": {},
   "outputs": [],
   "source": [
    "df"
   ]
  },
  {
   "cell_type": "code",
   "execution_count": null,
   "id": "da61abdf",
   "metadata": {},
   "outputs": [],
   "source": [
    "px.line(df[df.tic == \"BA\"], x = 'date', y = \"volatility\", color = 'tic',  )"
   ]
  },
  {
   "cell_type": "code",
   "execution_count": null,
   "id": "55774061",
   "metadata": {},
   "outputs": [],
   "source": [
    "px.line(df[df.tic == \"BA\"], x = 'date', y = \"close\", color = 'tic',  )"
   ]
  },
  {
   "cell_type": "code",
   "execution_count": null,
   "id": "3383c8bb",
   "metadata": {},
   "outputs": [],
   "source": [
    "delta = 0.9836065\n",
    "delta/(1-delta)\n",
    "I = 1000\n",
    "\n",
    "w = [(1-delta) * (delta**i) * i for i in range(I)]"
   ]
  },
  {
   "cell_type": "code",
   "execution_count": null,
   "id": "eef7b3f0",
   "metadata": {},
   "outputs": [],
   "source": [
    "\n",
    "data = {'r_t': np.random.randint(0, 100, I)} # Example returns between -0.5 and 0.5\n",
    "df = pd.DataFrame(data)\n",
    "\n",
    "df['gains'] = df['r_t'].cumsum()\n",
    "df"
   ]
  },
  {
   "cell_type": "code",
   "execution_count": null,
   "id": "cb3d66e3",
   "metadata": {},
   "outputs": [],
   "source": [
    "df['r_t_hat'] = df['r_t'].ewm(com=60, adjust=False).mean() "
   ]
  },
  {
   "cell_type": "code",
   "execution_count": null,
   "id": "9062aaca",
   "metadata": {},
   "outputs": [],
   "source": [
    "df['std_r_t'] = df['r_t'].ewm(com=60, adjust=True).std() "
   ]
  },
  {
   "cell_type": "code",
   "execution_count": null,
   "id": "2d6700e8",
   "metadata": {},
   "outputs": [],
   "source": [
    "df['sig'] = np.sqrt( df['std_r_t'] * 261)"
   ]
  },
  {
   "cell_type": "code",
   "execution_count": null,
   "id": "0d3ed332",
   "metadata": {},
   "outputs": [],
   "source": [
    "df"
   ]
  },
  {
   "cell_type": "code",
   "execution_count": null,
   "id": "d00a58a3",
   "metadata": {},
   "outputs": [],
   "source": [
    "df[\"r_t\"][:25]"
   ]
  },
  {
   "cell_type": "code",
   "execution_count": null,
   "id": "d2063059",
   "metadata": {},
   "outputs": [],
   "source": [
    "I = 1000\n",
    "\n",
    "t = 23\n",
    "\n",
    "def sig_sq(t, delta, df):\n",
    "    r = df['r_t']\n",
    "    rh = df['r_t_hat']\n",
    "    sc = 261 # Scaling constant, assuming 261 trading days in a year\n",
    "    return sc * sum([(1-delta) * (delta**i) * (r[t-1-i] - rh[t])**2 for i in range(t)])\n",
    "\n",
    "\n",
    "df[\"volat\"] = [ np.sqrt(sig_sq(t, delta, df)) for t in range(0, I) ]\n"
   ]
  },
  {
   "cell_type": "code",
   "execution_count": null,
   "id": "a7476e7d",
   "metadata": {},
   "outputs": [],
   "source": [
    "fig = px.line(df, y=\"volat\")\n",
    "fig#.add_trace(px.line(df, y=\"r_t\").data[0])"
   ]
  },
  {
   "cell_type": "code",
   "execution_count": null,
   "id": "5981a70e",
   "metadata": {},
   "outputs": [],
   "source": [
    "fig = px.scatter(df, y=\"sig\", x = \"volat\")\n",
    "fig"
   ]
  },
  {
   "cell_type": "code",
   "execution_count": null,
   "id": "37d010dd",
   "metadata": {},
   "outputs": [],
   "source": [
    "import pandas as pd\n",
    "import numpy as np\n",
    "\n",
    "class bla:\n",
    "\n",
    "    def __init__(self):\n",
    "        self.df = pd.read_csv(\"sample_df.csv\", index_col='day')\n",
    "        self.day = 345\n",
    "\n",
    "    def calc_periods_returns(self, period, days):\n",
    "        #data =  self.df[self.df.day == self.day] #, ['volatility', 'tic']]\n",
    "        data = self.df.loc[self.day, ['date_idx', 'volatility', 'tic']].set_index('tic')\n",
    "\n",
    "        data['ret'] = self.df.loc[self.day - days : self.day, ['ret','tic']].groupby('tic').sum()['ret']\n",
    "        data['returns'] = data['ret'] / (data['volatility'] * np.sqrt(days))\n",
    "        data.set_index('date_idx', inplace = True)\n",
    "        self.df.loc[self.day, period] = data['returns'] \n",
    "        #print(self.df.loc[self.day])\n",
    "\n",
    "\n",
    "\n",
    "    def doit(self, rng = [5]):\n",
    "        periods = {'ret_1M': 21,\n",
    "            'ret_2M': 42,\n",
    "            'ret_3M': 63,\n",
    "            'ret_1Y': 252} \n",
    "        for i in rng:\n",
    "            self.day = i\n",
    "            for p,d in periods.items():\n",
    "                self.calc_periods_returns(p,d)    "
   ]
  },
  {
   "cell_type": "code",
   "execution_count": null,
   "id": "3e91d233",
   "metadata": {},
   "outputs": [],
   "source": [
    "import pandas as pd\n",
    "import numpy as np\n",
    "\n",
    "class bla:\n",
    "\n",
    "    def __init__(self):\n",
    "        self.df = pd.read_csv(\"sample_df.csv\").set_index(['day','tic'], drop=False)\n",
    "\n",
    "        self.df = self.df[['day', 'tic', 'close', 'macd', 'rsi_30', 'volatility',\n",
    "       'ret', 'ret_1M', 'ret_2M', 'ret_3M', 'ret_1Y']]\n",
    "\n",
    "        self.df.fillna({'volatility':1}, inplace=True)\n",
    "\n",
    "        self.periods = ['ret_1M', 'ret_2M', 'ret_3M', 'ret_1Y']\n",
    "        self.days = [21,42,63,252]\n",
    "        self.time_scale = pd.DataFrame(np.sqrt([self.days]), columns = self.periods)\n",
    "\n",
    "        #self.periods = pd.DataFrame([[21,42,63,252]], columns= ['ret_1M', 'ret_2M', 'ret_3M', 'ret_1Y'])\n",
    "        self.df[self.periods] = 0.0\n",
    "\n",
    "    def calc_periods_returns(self):\n",
    "        volatility = self.df.loc[(self.day, slice(None)), ['volatility']]\n",
    "        volatility.columns = pd.RangeIndex(start=0, stop=1, step=1)\n",
    "        \n",
    "        norm = 1 / (volatility @ self.time_scale)\n",
    "               \n",
    "               \n",
    "        addition = self.df.loc[self.day - 1,['ret','ret','ret','ret']] \n",
    "        addition.columns = self.periods\n",
    "        \n",
    "\n",
    "        s = np.maximum(self.day - np.array(self.days),np.array([0]))\n",
    "        tmp = {k:v for k,v in zip(s,self.periods)}\n",
    "        lower = self.df.loc[(s, slice(None)),'ret']\n",
    "        lower = lower.unstack(level=0, )\n",
    "        lower.columns = lower.columns.map(tmp)\n",
    "\n",
    "        addition -= lower\n",
    "\n",
    "        addition.fillna(0.0, inplace= True)\n",
    "\n",
    "        self.tracking += addition\n",
    "\n",
    "        update = self.tracking * norm\n",
    "        #update.index = update.index.set_levels([self.day -1],level=0)\n",
    "\n",
    "        #self.df[self.periods].update(update)\n",
    "        #self.df.loc[(self.day,slice(None)), periods] = self.tracking.loc[:,periods]  / (volatility * np.sqrt(days))\n",
    "        self.df.loc[self.day,self.periods] = update\n",
    "\n",
    "\n",
    "    def doit(self, rng = [5]):\n",
    "        self.dim = self.df.tic.nunique()\n",
    "        \n",
    "        # self.tracking = {'ret_1M': np.array([0.0]*self.dim ),\n",
    "        #         'ret_2M':  np.array([0.0]*self.dim ),\n",
    "        #         'ret_3M':  np.array([0.0]*self.dim ),\n",
    "        #         'ret_1Y':  np.array([0.0]*self.dim )} \n",
    "        \n",
    "        self.tracking = self.df.loc[0,self.periods ]\n",
    "        l = len(rng)\n",
    "        for i in rng:\n",
    "            print('\\r line', i, \" (\", int(i/l)*100 , \" %)\" , end='')\n",
    "            self.day = i\n",
    "            #for p,d in self.periods.items():\n",
    "            self.calc_periods_returns()\n"
   ]
  },
  {
   "cell_type": "code",
   "execution_count": null,
   "id": "9eaee54b",
   "metadata": {},
   "outputs": [],
   "source": [
    "B = bla()\n",
    "B.df"
   ]
  },
  {
   "cell_type": "code",
   "execution_count": null,
   "id": "87749d26",
   "metadata": {},
   "outputs": [],
   "source": [
    "B.df.columns"
   ]
  },
  {
   "cell_type": "code",
   "execution_count": null,
   "id": "05e1ad2d",
   "metadata": {},
   "outputs": [],
   "source": [
    "what = B.df.index.get_level_values('day').unique()[1:]\n",
    "what"
   ]
  },
  {
   "cell_type": "code",
   "execution_count": null,
   "id": "6c50c6a3",
   "metadata": {},
   "outputs": [],
   "source": [
    "\n",
    "B.doit(what)\n",
    "#B.doit(list(range(67,100)))"
   ]
  },
  {
   "cell_type": "code",
   "execution_count": null,
   "id": "b2e5cb42",
   "metadata": {},
   "outputs": [],
   "source": [
    "%load_ext line_profiler"
   ]
  },
  {
   "cell_type": "code",
   "execution_count": null,
   "id": "ac0ae249",
   "metadata": {},
   "outputs": [],
   "source": [
    "%lprun -f bla.calc_periods_returns B.doit(what)"
   ]
  },
  {
   "cell_type": "code",
   "execution_count": null,
   "id": "04258f51",
   "metadata": {},
   "outputs": [],
   "source": [
    "B.df"
   ]
  },
  {
   "cell_type": "code",
   "execution_count": null,
   "id": "48777431",
   "metadata": {},
   "outputs": [],
   "source": [
    "B.df.index"
   ]
  },
  {
   "cell_type": "code",
   "execution_count": null,
   "id": "5a14658f",
   "metadata": {},
   "outputs": [],
   "source": [
    "lal = B.df.xs('ZT=F',level='tic')"
   ]
  },
  {
   "cell_type": "code",
   "execution_count": null,
   "id": "ea5ecb58",
   "metadata": {},
   "outputs": [],
   "source": [
    "lal"
   ]
  },
  {
   "cell_type": "code",
   "execution_count": null,
   "id": "6f29f77f",
   "metadata": {},
   "outputs": [],
   "source": [
    "from plotly import express as px\n",
    "px.line(lal, y = 'ret_1M')"
   ]
  },
  {
   "cell_type": "code",
   "execution_count": null,
   "id": "0bace5ca",
   "metadata": {},
   "outputs": [],
   "source": [
    "a =  list(range(30,10,-1))\n",
    "a"
   ]
  },
  {
   "cell_type": "code",
   "execution_count": null,
   "id": "e3cf5e4d",
   "metadata": {},
   "outputs": [],
   "source": [
    "sm = 0\n",
    "\n",
    "w = 6\n",
    "for e in range(1,20): \n",
    "    s = max(0,e-w)\n",
    "\n",
    "    sm -= a[s]\n",
    "    sm += a[e-1]\n",
    "    bad = sum(a[s+1:e])\n",
    "    print(e, s, e, a[s+1:e], bad, sm)"
   ]
  },
  {
   "cell_type": "code",
   "execution_count": null,
   "id": "39ac202f",
   "metadata": {},
   "outputs": [],
   "source": [
    "sm = 0\n",
    "\n",
    "w = 6\n",
    "for e in range(1,len(a)): \n",
    "    s = e-w \n",
    "    if (s >= 0):\n",
    "        sm -= a[s]\n",
    "    \n",
    "    sm += a[e-1]\n",
    "    bad = a[max(0,s+1):e]\n",
    "    print(e, s, e, bad, sum(bad), sm)"
   ]
  },
  {
   "cell_type": "code",
   "execution_count": null,
   "id": "c9f66b59",
   "metadata": {},
   "outputs": [],
   "source": [
    "\n",
    "def step(a, e, w, sm):\n",
    "    s = e-w \n",
    "    if (s >= 0):\n",
    "        sm -= a[s]\n",
    "    \n",
    "    sm += a[e-1]\n",
    "    bad = a[max(0,s+1):e]\n",
    "    print(e, s, e, bad, sum(bad), sm)\n",
    "    return sm\n",
    "\n",
    "\n",
    "sm = 0\n",
    "\n",
    "w = 6\n",
    "for e in range(1,len(a)): \n",
    "    sm = step(a, e, w, sm)"
   ]
  },
  {
   "cell_type": "code",
   "execution_count": null,
   "id": "7955afb4",
   "metadata": {},
   "outputs": [],
   "source": [
    "sum([24, 23, 22, 21, 20, 19]) "
   ]
  },
  {
   "cell_type": "code",
   "execution_count": null,
   "id": "3a199dc9",
   "metadata": {},
   "outputs": [],
   "source": [
    "99-85"
   ]
  }
 ],
 "metadata": {
  "kernelspec": {
   "display_name": ".venv",
   "language": "python",
   "name": "python3"
  },
  "language_info": {
   "codemirror_mode": {
    "name": "ipython",
    "version": 3
   },
   "file_extension": ".py",
   "mimetype": "text/x-python",
   "name": "python",
   "nbconvert_exporter": "python",
   "pygments_lexer": "ipython3",
   "version": "3.11.9"
  }
 },
 "nbformat": 4,
 "nbformat_minor": 5
}

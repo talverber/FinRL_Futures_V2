{
 "cells": [
  {
   "cell_type": "markdown",
   "id": "3d7e21fe",
   "metadata": {},
   "source": []
  },
  {
   "cell_type": "code",
   "execution_count": null,
   "id": "74fbb349",
   "metadata": {},
   "outputs": [],
   "source": [
    "import numpy as np\n",
    "import pandas as pd\n",
    "from plotly import express as px\n",
    "from datetime import datetime"
   ]
  },
  {
   "cell_type": "code",
   "execution_count": null,
   "id": "c25301c8",
   "metadata": {},
   "outputs": [],
   "source": [
    "from config import DATA_DIR"
   ]
  },
  {
   "cell_type": "markdown",
   "id": "e53a2d32",
   "metadata": {},
   "source": [
    "### Download the financial data according to definitions in the config file "
   ]
  },
  {
   "cell_type": "code",
   "execution_count": null,
   "id": "88320020",
   "metadata": {},
   "outputs": [],
   "source": [
    "from finrl.applications.futures_trading import  get_futures_data"
   ]
  },
  {
   "cell_type": "code",
   "execution_count": null,
   "id": "d51f1545",
   "metadata": {},
   "outputs": [],
   "source": [
    "get_futures_data.main() # Download and process futures data "
   ]
  },
  {
   "cell_type": "code",
   "execution_count": null,
   "id": "01c17235",
   "metadata": {},
   "outputs": [],
   "source": [
    "import os\n",
    "os.getcwd()"
   ]
  },
  {
   "cell_type": "markdown",
   "id": "31ca973f",
   "metadata": {},
   "source": [
    "### Each training run will have it's own timestamp. "
   ]
  },
  {
   "cell_type": "code",
   "execution_count": null,
   "id": "1a938d40",
   "metadata": {},
   "outputs": [],
   "source": [
    "\n",
    "TSTP = datetime.now().strftime(\"%Y%m%d-%H%M\") # Timestamp of the run    \n",
    "RUN_DIR = f'{DATA_DIR}/{TSTP}'\n",
    "TRAINED_MODEL_DIR = f'{RUN_DIR}/trained_models/'\n",
    "RESULTS_DIR       = f'{RUN_DIR}/results/'\n",
    "\n",
    "print(f\"Run directory: {RUN_DIR}\")\n"
   ]
  },
  {
   "cell_type": "code",
   "execution_count": null,
   "id": "e12ac5e8",
   "metadata": {},
   "outputs": [],
   "source": [
    "from finrl.applications.futures_trading.train import main as train_main"
   ]
  },
  {
   "cell_type": "code",
   "execution_count": null,
   "id": "95a06aaf",
   "metadata": {},
   "outputs": [],
   "source": [
    "train_main(TRAINED_MODEL_DIR, RESULTS_DIR)"
   ]
  },
  {
   "cell_type": "code",
   "execution_count": null,
   "id": "a2972cda",
   "metadata": {},
   "outputs": [],
   "source": [
    "from finrl.applications.futures_trading.backtest  import main as backtest_main"
   ]
  },
  {
   "cell_type": "code",
   "execution_count": null,
   "id": "0434cc21",
   "metadata": {},
   "outputs": [],
   "source": [
    "RUN_DIR = \"data/futures/20250717-2251\"\n",
    "TRAINED_MODEL_DIR = f'{RUN_DIR}/trained_models/'\n",
    "RESULTS_DIR       = f'{RUN_DIR}/results/'"
   ]
  },
  {
   "cell_type": "code",
   "execution_count": null,
   "id": "37f2c403",
   "metadata": {},
   "outputs": [],
   "source": [
    "backtest_main(TRAINED_MODEL_DIR, RESULTS_DIR)"
   ]
  },
  {
   "cell_type": "markdown",
   "id": "7f75fa83",
   "metadata": {},
   "source": [
    "## Volatility for futures"
   ]
  },
  {
   "cell_type": "code",
   "execution_count": null,
   "id": "66e248bf",
   "metadata": {},
   "outputs": [],
   "source": [
    "from finrl.applications.futures_trading import  get_futures_data"
   ]
  },
  {
   "cell_type": "code",
   "execution_count": null,
   "id": "657b4357",
   "metadata": {},
   "outputs": [],
   "source": [
    "get_futures_data.main() # Download and process futures data "
   ]
  },
  {
   "cell_type": "code",
   "execution_count": null,
   "id": "da8d88a1",
   "metadata": {},
   "outputs": [],
   "source": [
    "import os\n",
    "os.getcwd()"
   ]
  },
  {
   "cell_type": "markdown",
   "id": "abda4283",
   "metadata": {},
   "source": [
    "### Each training run will have it's own timestamp. "
   ]
  },
  {
   "cell_type": "code",
   "execution_count": null,
   "id": "5408ad82",
   "metadata": {},
   "outputs": [],
   "source": [
    "\n",
    "TSTP = datetime.now().strftime(\"%Y%m%d-%H%M\") # Timestamp of the run    \n",
    "RUN_DIR = f'{DATA_DIR}/{TSTP}'\n",
    "TRAINED_MODEL_DIR = f'{RUN_DIR}/trained_models/'\n",
    "RESULTS_DIR       = f'{RUN_DIR}/results/'\n",
    "\n",
    "print(f\"Run directory: {RUN_DIR}\")\n"
   ]
  },
  {
   "cell_type": "code",
   "execution_count": null,
   "id": "29f745c0",
   "metadata": {},
   "outputs": [],
   "source": [
    "from finrl.applications.futures_trading.train import main as train_main"
   ]
  },
  {
   "cell_type": "code",
   "execution_count": null,
   "id": "2696f484",
   "metadata": {},
   "outputs": [],
   "source": [
    "train_main(RUN_DIR)"
   ]
  },
  {
   "cell_type": "code",
   "execution_count": null,
   "id": "1a04df36",
   "metadata": {},
   "outputs": [],
   "source": [
    "from finrl.applications.futures_trading.backtest  import main as backtest_main"
   ]
  },
  {
   "cell_type": "code",
   "execution_count": null,
   "id": "e98d227a",
   "metadata": {},
   "outputs": [],
   "source": [
    "RUN_DIR = \"data/futures/20250719-1755\"\n"
   ]
  },
  {
   "cell_type": "code",
   "execution_count": null,
   "id": "88a5d85c",
   "metadata": {},
   "outputs": [],
   "source": [
    "backtest_main(RUN_DIR)"
   ]
  },
  {
   "cell_type": "code",
   "execution_count": null,
   "id": "398a4072",
   "metadata": {},
   "outputs": [],
   "source": []
  }
 ],
 "metadata": {
  "kernelspec": {
   "display_name": ".venv",
   "language": "python",
   "name": "python3"
  },
  "language_info": {
   "codemirror_mode": {
    "name": "ipython",
    "version": 3
   },
   "file_extension": ".py",
   "mimetype": "text/x-python",
   "name": "python",
   "nbconvert_exporter": "python",
   "pygments_lexer": "ipython3",
   "version": "3.10.12"
  }
 },
 "nbformat": 4,
 "nbformat_minor": 5
}

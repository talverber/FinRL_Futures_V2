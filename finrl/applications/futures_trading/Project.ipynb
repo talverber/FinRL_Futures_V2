{
 "cells": [
  {
   "cell_type": "markdown",
   "id": "3d7e21fe",
   "metadata": {},
   "source": [
    "# Application of an established FinRL library for a novel class of trading: Futures contracts.\n",
    "\n",
    "by:  \n",
    "Michael Berger  \n",
    "Tal Verber\n",
    "\n",
    "This notebook summarizes the work done for the final project in the course **Robotics and Reinforcement Learning**\n"
   ]
  },
  {
   "cell_type": "code",
   "execution_count": null,
   "id": "74fbb349",
   "metadata": {},
   "outputs": [],
   "source": [
    "import numpy as np\n",
    "import pandas as pd\n",
    "from plotly import express as px\n",
    "from datetime import datetime\n",
    "import os\n",
    "os.getcwd()"
   ]
  },
  {
   "cell_type": "code",
   "execution_count": null,
   "id": "c25301c8",
   "metadata": {},
   "outputs": [],
   "source": [
    "from config import DATA_DIR\n",
    "from finrl.applications.futures_trading import  get_futures_data\n",
    "from finrl.applications.futures_trading.train import main as train_main\n",
    "from finrl.applications.futures_trading.backtest  import main as backtest_main"
   ]
  },
  {
   "cell_type": "markdown",
   "id": "e53a2d32",
   "metadata": {},
   "source": [
    "### Download the financial data \n",
    "According to definitions in the config file "
   ]
  },
  {
   "cell_type": "code",
   "execution_count": null,
   "id": "d51f1545",
   "metadata": {},
   "outputs": [],
   "source": [
    "get_futures_data.main() # Download and process futures data "
   ]
  },
  {
   "cell_type": "markdown",
   "id": "31ca973f",
   "metadata": {},
   "source": [
    "### Run training for the defined parameters \n",
    "Each training run will have it's own timestamp. "
   ]
  },
  {
   "cell_type": "code",
   "execution_count": null,
   "id": "1a938d40",
   "metadata": {},
   "outputs": [],
   "source": [
    "\n",
    "TSTP = datetime.now().strftime(\"%Y%m%d-%H%M\") # Timestamp of the run    \n",
    "RUN_DIR = f'{DATA_DIR}/{TSTP}'\n",
    "print(f\"Run directory: {RUN_DIR}\")\n"
   ]
  },
  {
   "cell_type": "code",
   "execution_count": null,
   "id": "95a06aaf",
   "metadata": {},
   "outputs": [],
   "source": [
    "train_main(RUN_DIR)"
   ]
  },
  {
   "cell_type": "markdown",
   "id": "17fe8aa8",
   "metadata": {},
   "source": [
    "In case one wants to run backtesting on different training outputs, their folder may be defined manually"
   ]
  },
  {
   "cell_type": "code",
   "execution_count": 8,
   "id": "0434cc21",
   "metadata": {},
   "outputs": [],
   "source": [
    "RUN_DIR = \"data/futures/20250717-2251\""
   ]
  },
  {
   "cell_type": "code",
   "execution_count": null,
   "id": "37f2c403",
   "metadata": {},
   "outputs": [],
   "source": [
    "backtest_main(RUN_DIR)"
   ]
  },
  {
   "cell_type": "markdown",
   "id": "7f75fa83",
   "metadata": {},
   "source": [
    "## Volatility for futures\n",
    "\n",
    "The authors of our paper have alluded to a possible approaches to improve trading Futures contracts:\n",
    "\n",
    "```\n",
    "Volatility scaling can be incorporated with DRL to trade futures contracts [48]. By adding a market volatility term to reward functions, we can scale up the trade shares with low volatility, and vice versa.  \n",
    "\n",
    "[48] Zihao Zhang, Stefan Zohren, and Stephen Roberts. Deep reinforcement learning for trading. The Journal of Financial Data Science, 2(2):25–40, 2020.\n",
    "```\n",
    "\n",
    "While we attempted to implement this with FinRL, the required modifications proved to be outside the scope of this project.  \n",
    "This was primarily due to:\n",
    " - Architectural Limitations of FinRL Environments: We encountered challenges with the existing environment's design, finding it less modular, difficult to debug, and cumbersome to modify for advanced features.\n",
    " - Dynamic Aggregation Needs: Implementing rolling aggregations on agent returns – which are inherently sequential and cannot be pre-calculated – posed significant performance and integration hurdles within FinRL's current structure.\n",
    " - Complexity of Market Factors: Our evolving understanding of the nuanced factors that truly drive financial market dynamics also played a role in prioritizing core functionalities over this advanced approach.\n",
    "\n",
    "The code for this attempt is essentially the same as before with small change. To run it do:\n",
    "1. go to config.py  in this dir\n",
    "2. open it for edit\n",
    "3. change `ENV_TYPE = 'stocks'` to  `ENV_TYPE = 'futures'`  \n",
    "4. restart this notebook \n",
    "5. continue running cells from here\n"
   ]
  },
  {
   "cell_type": "code",
   "execution_count": null,
   "id": "657b4357",
   "metadata": {},
   "outputs": [],
   "source": [
    "get_futures_data.main() # Download and process futures data "
   ]
  },
  {
   "cell_type": "code",
   "execution_count": null,
   "id": "5408ad82",
   "metadata": {},
   "outputs": [],
   "source": [
    "\n",
    "TSTP = datetime.now().strftime(\"%Y%m%d-%H%M\") # Timestamp of the run    \n",
    "RUN_DIR = f'{DATA_DIR}/{TSTP}'\n",
    "print(f\"Run directory: {RUN_DIR}\")"
   ]
  },
  {
   "cell_type": "code",
   "execution_count": null,
   "id": "2696f484",
   "metadata": {},
   "outputs": [],
   "source": [
    "train_main(RUN_DIR)"
   ]
  },
  {
   "cell_type": "code",
   "execution_count": null,
   "id": "e98d227a",
   "metadata": {},
   "outputs": [],
   "source": [
    "RUN_DIR = \"data/futures/20250719-1755\""
   ]
  },
  {
   "cell_type": "code",
   "execution_count": null,
   "id": "88a5d85c",
   "metadata": {},
   "outputs": [],
   "source": [
    "backtest_main(RUN_DIR)"
   ]
  }
 ],
 "metadata": {
  "kernelspec": {
   "display_name": ".venv",
   "language": "python",
   "name": "python3"
  },
  "language_info": {
   "codemirror_mode": {
    "name": "ipython",
    "version": 3
   },
   "file_extension": ".py",
   "mimetype": "text/x-python",
   "name": "python",
   "nbconvert_exporter": "python",
   "pygments_lexer": "ipython3",
   "version": "3.10.12"
  }
 },
 "nbformat": 4,
 "nbformat_minor": 5
}
